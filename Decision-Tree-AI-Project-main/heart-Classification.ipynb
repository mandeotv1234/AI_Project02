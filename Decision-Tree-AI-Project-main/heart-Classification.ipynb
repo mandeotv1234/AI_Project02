{
 "cells": [
  {
   "cell_type": "markdown",
   "id": "4641134f",
   "metadata": {},
   "source": [
    "# Import"
   ]
  },
  {
   "cell_type": "code",
   "execution_count": 2,
   "id": "afd7404a",
   "metadata": {},
   "outputs": [
    {
     "ename": "ModuleNotFoundError",
     "evalue": "No module named 'graphviz'",
     "output_type": "error",
     "traceback": [
      "\u001b[31m---------------------------------------------------------------------------\u001b[39m",
      "\u001b[31mModuleNotFoundError\u001b[39m                       Traceback (most recent call last)",
      "\u001b[36mCell\u001b[39m\u001b[36m \u001b[39m\u001b[32mIn[2]\u001b[39m\u001b[32m, line 2\u001b[39m\n\u001b[32m      1\u001b[39m \u001b[38;5;28;01mimport\u001b[39;00m\u001b[38;5;250m \u001b[39m\u001b[34;01mpandas\u001b[39;00m\u001b[38;5;250m \u001b[39m\u001b[38;5;28;01mas\u001b[39;00m\u001b[38;5;250m \u001b[39m\u001b[34;01mpd\u001b[39;00m\n\u001b[32m----> \u001b[39m\u001b[32m2\u001b[39m \u001b[38;5;28;01mimport\u001b[39;00m\u001b[38;5;250m \u001b[39m\u001b[34;01mgraphviz\u001b[39;00m\n\u001b[32m      3\u001b[39m \u001b[38;5;28;01mimport\u001b[39;00m\u001b[38;5;250m \u001b[39m\u001b[34;01mre\u001b[39;00m\n\u001b[32m      4\u001b[39m \u001b[38;5;28;01mimport\u001b[39;00m\u001b[38;5;250m \u001b[39m\u001b[34;01mmatplotlib\u001b[39;00m\u001b[34;01m.\u001b[39;00m\u001b[34;01mpyplot\u001b[39;00m\u001b[38;5;250m \u001b[39m\u001b[38;5;28;01mas\u001b[39;00m\u001b[38;5;250m \u001b[39m\u001b[34;01mplt\u001b[39;00m\n",
      "\u001b[31mModuleNotFoundError\u001b[39m: No module named 'graphviz'"
     ]
    }
   ],
   "source": [
    "import pandas as pd\n",
    "import graphviz\n",
    "import re\n",
    "import matplotlib.pyplot as plt\n",
    "import numpy as np\n",
    "from sklearn.model_selection import train_test_split\n",
    "from sklearn.tree import DecisionTreeClassifier, export_graphviz\n",
    "from sklearn.tree import export_graphviz\n",
    "from sklearn.metrics import classification_report, confusion_matrix, ConfusionMatrixDisplay\n",
    "from IPython.display import display, Markdown, Image\n",
    "from IPython.display import Markdown, display as ds\n",
    "from sklearn.metrics import accuracy_score\n",
    "from sklearn.ensemble import RandomForestClassifier\n",
    "from sklearn.tree import plot_tree"
   ]
  },
  {
   "cell_type": "markdown",
   "id": "a3e7d1d5",
   "metadata": {},
   "source": [
    "# READFILE AND PREPROCESSING"
   ]
  },
  {
   "cell_type": "code",
   "execution_count": null,
   "id": "207a5c11",
   "metadata": {},
   "outputs": [],
   "source": [
    "col_names = [\n",
    "    'age', 'sex', 'cp', 'trestbps', 'chol', 'fbs',\n",
    "    'restecg', 'thalach', 'exang', 'oldpeak', 'slope',\n",
    "    'ca', 'thal', 'num'\n",
    "]\n",
    "\n",
    "df = pd.read_csv(\n",
    "    r'Data/processed.cleveland.csv',\n",
    "\tencoding = 'latin1',\n",
    "    names = col_names,\n",
    "    header = None,\n",
    "    na_values = '?'\n",
    ")\n",
    "\n",
    "y = df['num'].apply(lambda x: 1 if x > 0 else 0)\n",
    "X = df.drop('num', axis = 1)\n",
    "\n",
    "df\n"
   ]
  },
  {
   "cell_type": "code",
   "execution_count": null,
   "id": "9aa61830",
   "metadata": {},
   "outputs": [],
   "source": [
    "df.describe()"
   ]
  },
  {
   "cell_type": "code",
   "execution_count": null,
   "id": "a7b8b695",
   "metadata": {},
   "outputs": [],
   "source": [
    "df.dropna(\n",
    "    subset=[\n",
    "        'age','sex','cp','trestbps','chol','fbs',\n",
    "        'restecg','thalach','exang','oldpeak','slope','ca','thal'\n",
    "    ],\n",
    "    inplace=True\n",
    ")\n",
    "\n",
    "df['num'] = df['num'].apply(lambda x: 1 if x>0 else 0)\n",
    "\n",
    "df = pd.get_dummies(\n",
    "    df,\n",
    "    columns=['sex','cp','restecg','slope','thal'],\n",
    "    drop_first=True\n",
    ")\n",
    "\n",
    "df"
   ]
  },
  {
   "cell_type": "markdown",
   "id": "0026dfbb",
   "metadata": {},
   "source": [
    "# TRAIN SPLIT TEST"
   ]
  },
  {
   "cell_type": "markdown",
   "id": "2c017588",
   "metadata": {},
   "source": [
    "This task sets up the training and test datasets for the upcoming experiments.  \n",
    "Using the features and labels above, please prepare the following four subsets:\n",
    "\n",
    "● `feature_train`: a set of training samples.  \n",
    "● `label_train`: a set of labels corresponding to the samples in `feature_train`.  \n",
    "● `feature_test`: a set of test samples with a structure to `feature_train`.  \n",
    "● `label_test`: a set of labels corresponding to the samples in `feature_test`. "
   ]
  },
  {
   "cell_type": "code",
   "execution_count": null,
   "id": "37e1e74f",
   "metadata": {},
   "outputs": [],
   "source": [
    "ratios = [\n",
    "    (0.4, 0.6),\n",
    "    (0.6, 0.4),\n",
    "    (0.8, 0.2),\n",
    "    (0.9, 0.1),\n",
    "]\n",
    "\n",
    "subsets = {}\n",
    "\n",
    "for tr, te in ratios:\n",
    "    X_tr, X_te, y_tr, y_te = train_test_split(\n",
    "        X, y, \n",
    "        train_size = tr, \n",
    "        stratify = y, \n",
    "        random_state = 42\n",
    "    )\n",
    "    key = f'{int(tr * 100)}/{int(te * 100)}'\n",
    "    subsets[key] = {\n",
    "        'X_train': X_tr, 'y_train': y_tr,\n",
    "        'X_test' : X_te, 'y_test' : y_te,\n",
    "    }\n",
    "\n",
    "print(\"Finish to create subsets:\", list(subsets.keys()))\n",
    "\n",
    "\n",
    "# Tỷ lệ gốc\n",
    "orig_counts = y.value_counts(normalize=True).sort_index()\n",
    "\n",
    "for key, data in subsets.items():\n",
    "    tr_counts = data['y_train'].value_counts(normalize=True).sort_index()\n",
    "    te_counts = data['y_test' ].value_counts(normalize=True).sort_index()\n",
    "    # So sánh xem có chênh lệch quá 1 mẫu không\n",
    "    assert all((tr_counts - orig_counts * len(data['y_train'])/len(y)).abs() <= 1), f\"{key} train lệch quá 1 mẫu!\"\n",
    "    assert all((te_counts - orig_counts * len(data['y_test'])/len(y)).abs() <= 1),  f\"{key} test lệch quá 1 mẫu!\"\n",
    "\n",
    "def plot_all_distributions(y, subsets):\n",
    "    n_plots = 1 + len(subsets)*2   # 1 original + mỗi split 2 (train & test)\n",
    "    cols = 3\n",
    "    rows = (n_plots + cols - 1) // cols\n",
    "    fig, axes = plt.subplots(rows, cols, figsize=(cols*4, rows*3))\n",
    "    axes = axes.flatten()\n",
    "\n",
    "    # 1) Original\n",
    "    cnt = y.value_counts().sort_index()\n",
    "    axes[0].bar(cnt.index, cnt.values)\n",
    "    axes[0].set_title('Original')\n",
    "    axes[0].set_xlabel('Class'); axes[0].set_ylabel('Count')\n",
    "\n",
    "    # 2) Train & Test cho từng tỷ lệ\n",
    "    idx = 1\n",
    "    for key, data in subsets.items():\n",
    "        # train\n",
    "        cnt = data['y_train'].value_counts().sort_index()\n",
    "        axes[idx].bar(cnt.index, cnt.values)\n",
    "        axes[idx].set_title(f'{key} train')\n",
    "        axes[idx].set_xlabel('Class')\n",
    "        idx += 1\n",
    "        # test\n",
    "        cnt = data['y_test'].value_counts().sort_index()\n",
    "        axes[idx].bar(cnt.index, cnt.values)\n",
    "        axes[idx].set_title(f'{key} test')\n",
    "        axes[idx].set_xlabel('Class')\n",
    "        idx += 1\n",
    "\n",
    "    # Tắt các subplot thừa\n",
    "    for ax in axes[idx:]:\n",
    "        ax.axis('off')\n",
    "\n",
    "    plt.tight_layout()\n",
    "    plt.show()\n",
    "\n",
    "# Gọi hàm\n",
    "plot_all_distributions(y, subsets)\n"
   ]
  },
  {
   "cell_type": "markdown",
   "id": "9d983021",
   "metadata": {},
   "source": [
    "# TRAIN MODEL "
   ]
  },
  {
   "cell_type": "code",
   "execution_count": 6,
   "id": "74405aee",
   "metadata": {},
   "outputs": [],
   "source": [
    "clf_dict = {}"
   ]
  },
  {
   "cell_type": "code",
   "execution_count": 7,
   "id": "e8a5cd26",
   "metadata": {},
   "outputs": [],
   "source": [
    "key = '40/60'\n",
    "data = subsets[key]\n",
    "\n",
    "clf_40_60 = DecisionTreeClassifier(criterion='entropy', random_state=42)\n",
    "clf_40_60.fit(data['X_train'], data['y_train'])\n",
    "clf_dict[key] = clf_40_60"
   ]
  },
  {
   "cell_type": "code",
   "execution_count": 8,
   "id": "27ece715",
   "metadata": {},
   "outputs": [],
   "source": [
    "key = '60/40'\n",
    "data = subsets[key]\n",
    "\n",
    "clf_60_40 = DecisionTreeClassifier(criterion='entropy', random_state=42)\n",
    "clf_60_40.fit(data['X_train'], data['y_train'])\n",
    "clf_dict[key] = clf_60_40"
   ]
  },
  {
   "cell_type": "code",
   "execution_count": 9,
   "id": "0a897c16",
   "metadata": {},
   "outputs": [],
   "source": [
    "key = '80/20'\n",
    "data = subsets[key]\n",
    "\n",
    "clf_80_20 = DecisionTreeClassifier(criterion='entropy', random_state=42)\n",
    "clf_80_20.fit(data['X_train'], data['y_train'])\n",
    "clf_dict[key] = clf_80_20"
   ]
  },
  {
   "cell_type": "code",
   "execution_count": 10,
   "id": "a00821af",
   "metadata": {},
   "outputs": [],
   "source": [
    "key = '90/10'\n",
    "data = subsets[key]\n",
    "\n",
    "clf_90_10 = DecisionTreeClassifier(criterion='entropy', random_state=42)\n",
    "clf_90_10.fit(data['X_train'], data['y_train'])\n",
    "clf_dict[key] = clf_90_10"
   ]
  },
  {
   "cell_type": "markdown",
   "id": "d8108c70",
   "metadata": {},
   "source": [
    "# VISUALIZE DECISION TREE"
   ]
  },
  {
   "cell_type": "code",
   "execution_count": null,
   "id": "6040a8ec",
   "metadata": {},
   "outputs": [],
   "source": [
    "# 2. Xuất và hiển thị bằng Graphviz\n",
    "for key, clf in clf_dict.items():\n",
    "    ds(Markdown(f\"### Decision Tree ({key}) ###\"))\n",
    "    \n",
    "    dot_data = export_graphviz(\n",
    "        clf,\n",
    "        out_file=None,\n",
    "        feature_names=subsets[key]['X_train'].columns.tolist(),\n",
    "        class_names=['No Disease', 'Yes Disease'],\n",
    "        filled=True,\n",
    "        rounded=True,\n",
    "        special_characters=True\n",
    "    )\n",
    "    graph = graphviz.Source(dot_data)\n",
    "    display(graph)\n",
    "\n",
    "    X_test = subsets[key]['X_test']\n",
    "    y_test = subsets[key]['y_test']\n",
    "    y_pred = clf.predict(X_test)\n",
    "\n",
    "    report = classification_report(y_test, y_pred, target_names = ['No Disease', 'Disease'])\n",
    "    cm     = confusion_matrix(y_test, y_pred)\n",
    "\n",
    "    max_depth = clf.get_depth()\n",
    "    train_test_ratio = key \n",
    "\n",
    "    fig, axes = plt.subplots(1, 2, figsize=(12, 4))\n",
    "\n",
    "    # --- Bên trái: Classification Report ---\n",
    "    axes[0].axis('off')\n",
    "    axes[0].text(0, 0.7, report,\n",
    "                 fontsize = 10,\n",
    "                 verticalalignment = 'top',\n",
    "                 fontfamily = 'monospace')\n",
    "\n",
    "    # --- Bên phải: Confusion Matrix ---\n",
    "    disp = ConfusionMatrixDisplay(confusion_matrix = cm,\n",
    "                                  display_labels = ['No Disease', 'Disease'])\n",
    "    disp.plot(ax = axes[1], cmap = 'Blues', values_format = 'd')\n",
    "\n",
    "    # Thu nhỏ font trong các ô của CM\n",
    "    for txt in axes[1].texts:\n",
    "        txt.set_fontsize(8)\n",
    "    # Thu nhỏ tick labels\n",
    "    axes[1].tick_params(axis = 'both', labelsize = 10)\n",
    "    # Title với depth & ratio\n",
    "    axes[1].set_title(f\"Confusion Matrix\\n(Depth = {max_depth}, Split = {train_test_ratio})\",\n",
    "                      fontsize=10)\n",
    "\n",
    "    # Điều chỉnh khoảng cách giữa 2 subplot\n",
    "    plt.subplots_adjust(wspace = 1, hspace = 0.2)\n",
    "\n",
    "    plt.show()\n"
   ]
  },
  {
   "cell_type": "markdown",
   "id": "7daa576c",
   "metadata": {},
   "source": [
    "# EVALUATION METRICS"
   ]
  },
  {
   "cell_type": "code",
   "execution_count": 12,
   "id": "3174e2b7",
   "metadata": {},
   "outputs": [
    {
     "name": "stdout",
     "output_type": "stream",
     "text": [
      "Numbers of Wrong labels: 49/182\n",
      "Ratio of wrong labels: 26.92%\n"
     ]
    }
   ],
   "source": [
    "key = '40/60'\n",
    "data = subsets[key]\n",
    "clf  = clf_dict[key]\n",
    "\n",
    "# Dự đoán trên tập test tương ứng\n",
    "y_pred = clf.predict(data['X_test'])\n",
    "y_true = data['y_test']\n",
    "\n",
    "# Tính accuracy\n",
    "accuracy = accuracy_score(y_true, y_pred)\n",
    "\n",
    "# Tính số và tỉ lệ mẫu bị phân loại sai\n",
    "misclassified_count = (y_pred != y_true).sum()\n",
    "total_samples      = len(y_true)\n",
    "misclassified_rate = 100 * misclassified_count / total_samples\n",
    "\n",
    "print(f\"Numbers of Wrong labels: {misclassified_count}/{total_samples}\")\n",
    "print(f\"Ratio of wrong labels: {misclassified_rate:.2f}%\")"
   ]
  },
  {
   "cell_type": "code",
   "execution_count": 13,
   "id": "9a7bad95",
   "metadata": {},
   "outputs": [
    {
     "name": "stdout",
     "output_type": "stream",
     "text": [
      "Numbers of Wrong labels: 30/122\n",
      "Ratio of wrong labels: 24.59%\n"
     ]
    }
   ],
   "source": [
    "key = '60/40'\n",
    "data = subsets[key]\n",
    "clf  = clf_dict[key]\n",
    "\n",
    "# Dự đoán trên tập test tương ứng\n",
    "y_pred = clf.predict(data['X_test'])\n",
    "y_true = data['y_test']\n",
    "\n",
    "# Tính accuracy\n",
    "accuracy = accuracy_score(y_true, y_pred)\n",
    "\n",
    "# Tính số và tỉ lệ mẫu bị phân loại sai\n",
    "misclassified_count = (y_pred != y_true).sum()\n",
    "total_samples      = len(y_true)\n",
    "misclassified_rate = 100 * misclassified_count / total_samples\n",
    "\n",
    "print(f\"Numbers of Wrong labels: {misclassified_count}/{total_samples}\")\n",
    "print(f\"Ratio of wrong labels: {misclassified_rate:.2f}%\")"
   ]
  },
  {
   "cell_type": "code",
   "execution_count": 14,
   "id": "825d72f0",
   "metadata": {},
   "outputs": [
    {
     "name": "stdout",
     "output_type": "stream",
     "text": [
      "Numbers of Wrong labels: 14/61\n",
      "Ratio of wrong labels: 22.95%\n"
     ]
    }
   ],
   "source": [
    "key = '80/20'\n",
    "data = subsets[key]\n",
    "clf  = clf_dict[key]\n",
    "\n",
    "# Dự đoán trên tập test tương ứng\n",
    "y_pred = clf.predict(data['X_test'])\n",
    "y_true = data['y_test']\n",
    "\n",
    "# Tính accuracy\n",
    "accuracy = accuracy_score(y_true, y_pred)\n",
    "\n",
    "# Tính số và tỉ lệ mẫu bị phân loại sai\n",
    "misclassified_count = (y_pred != y_true).sum()\n",
    "total_samples      = len(y_true)\n",
    "misclassified_rate = 100 * misclassified_count / total_samples\n",
    "\n",
    "print(f\"Numbers of Wrong labels: {misclassified_count}/{total_samples}\")\n",
    "print(f\"Ratio of wrong labels: {misclassified_rate:.2f}%\")"
   ]
  },
  {
   "cell_type": "code",
   "execution_count": 15,
   "id": "f4fb89d9",
   "metadata": {},
   "outputs": [
    {
     "name": "stdout",
     "output_type": "stream",
     "text": [
      "Numbers of Wrong labels: 8/31\n",
      "Ratio of wrong labels: 25.81%\n"
     ]
    }
   ],
   "source": [
    "key = '90/10'\n",
    "data = subsets[key]\n",
    "clf  = clf_dict[key]\n",
    "\n",
    "# Dự đoán trên tập test tương ứng\n",
    "y_pred = clf.predict(data['X_test'])\n",
    "y_true = data['y_test']\n",
    "\n",
    "# Tính accuracy\n",
    "accuracy = accuracy_score(y_true, y_pred)\n",
    "\n",
    "# Tính số và tỉ lệ mẫu bị phân loại sai\n",
    "misclassified_count = (y_pred != y_true).sum()\n",
    "total_samples      = len(y_true)\n",
    "misclassified_rate = 100 * misclassified_count / total_samples\n",
    "\n",
    "print(f\"Numbers of Wrong labels: {misclassified_count}/{total_samples}\")\n",
    "print(f\"Ratio of wrong labels: {misclassified_rate:.2f}%\")"
   ]
  },
  {
   "cell_type": "code",
   "execution_count": null,
   "id": "70848f61",
   "metadata": {},
   "outputs": [],
   "source": [
    "data_8020 = subsets['80/20']\n",
    "X_train = data_8020['X_train']\n",
    "y_train = data_8020['y_train']\n",
    "X_test, y_test = data_8020['X_test'], data_8020['y_test']\n",
    "feature_cols = X_train.columns.tolist()\n",
    "\n",
    "# 2) Huấn luyện, đo accuracy, vẽ từng cây\n",
    "depths = [None, 2, 3, 4, 5, 6, 7]\n",
    "results = []\n",
    "\n",
    "for d in depths:\n",
    "    # a) Huấn luyện\n",
    "    clf = DecisionTreeClassifier(criterion = 'entropy', max_depth = d, random_state = 42)\n",
    "    clf.fit(X_train, y_train)\n",
    "\n",
    "    # b) Đo accuracy\n",
    "    y_pred = clf.predict(X_test)\n",
    "    acc = accuracy_score(y_test, y_pred)\n",
    "    results.append((d, acc))\n",
    "\n",
    "    # c) Xuất và vẽ cây quyết định\n",
    "    dot = export_graphviz(\n",
    "        clf, out_file = None,\n",
    "        feature_names = feature_cols,\n",
    "        class_names = ['No Disease', 'Yes Disease'],\n",
    "        filled = True, rounded=True\n",
    "    )\n",
    "    # Thêm tiêu đề vào Graphviz\n",
    "    depth_label = 'None' if d is None else str(d)\n",
    "    dot = re.sub(\n",
    "        r'(digraph Tree \\{)',\n",
    "        fr\"\"\"\\1\n",
    "        labelloc=\"t\";\n",
    "        label=\"Decision Tree (80/20) – max_depth={depth_label}\";\"\"\",\n",
    "        dot\n",
    "    )\n",
    "    graph = graphviz.Source(dot)\n",
    "\n",
    "    display(Markdown(f\"### Decision Tree (80/20), Max Depth = {depth_label}\"))\n",
    "    display(graph)\n",
    "\n",
    "# 3) Tạo bảng tổng hợp và vẽ đồ thị\n",
    "depth_vals, acc_vals = zip(*results)\n",
    "depth_labels = ['None' if d is None else str(d) for d in depth_vals]\n",
    "\n",
    "df = pd.DataFrame({'max_depth': depth_labels, 'Accuracy': acc_vals})\n",
    "print(df.to_string(index=False))\n",
    "\n",
    "plt.figure()\n",
    "plt.plot(depth_labels, acc_vals, marker = 'o')\n",
    "plt.xlabel('max_depth')\n",
    "plt.ylabel('Accuracy')\n",
    "plt.title('Accuracy vs max_depth (80/20)')\n",
    "plt.tight_layout()\n",
    "plt.show()"
   ]
  },
  {
   "cell_type": "markdown",
   "id": "a562f811",
   "metadata": {},
   "source": [
    "# EXTENDED WORK : RANDOM FOREST CLASSIFICATION"
   ]
  },
  {
   "cell_type": "code",
   "execution_count": 17,
   "id": "9b9d4e32",
   "metadata": {},
   "outputs": [
    {
     "name": "stdout",
     "output_type": "stream",
     "text": [
      "Confusion Matrix (Random Forest - 40/60):\n",
      "[[84 15]\n",
      " [17 66]]\n",
      "Classification Report (Random Forest - 40/60):\n",
      "              precision    recall  f1-score   support\n",
      "\n",
      "           0       0.83      0.85      0.84        99\n",
      "           1       0.81      0.80      0.80        83\n",
      "\n",
      "    accuracy                           0.82       182\n",
      "   macro avg       0.82      0.82      0.82       182\n",
      "weighted avg       0.82      0.82      0.82       182\n",
      "\n"
     ]
    }
   ],
   "source": [
    "key = '40/60'\n",
    "data = subsets[key]\n",
    "\n",
    "# Train Random Forest\n",
    "clf_rf_40_60 = RandomForestClassifier(n_estimators=10, random_state=42)\n",
    "clf_rf_40_60.fit(data['X_train'], data['y_train'])\n",
    "\n",
    "# Predict\n",
    "y_pred_rf = clf_rf_40_60.predict(data['X_test'])\n",
    "\n",
    "# Confusion Matrix\n",
    "cm_rf = confusion_matrix(data['y_test'], y_pred_rf)\n",
    "print(f\"Confusion Matrix (Random Forest - {key}):\")\n",
    "print(cm_rf)\n",
    "\n",
    "# Classification Report\n",
    "print(f\"Classification Report (Random Forest - {key}):\")\n",
    "print(classification_report(data['y_test'], y_pred_rf))\n"
   ]
  },
  {
   "cell_type": "code",
   "execution_count": null,
   "id": "201f850f",
   "metadata": {},
   "outputs": [],
   "source": [
    "for i, tree in enumerate(clf_rf_40_60.estimators_):\n",
    "    plt.figure(figsize=(20,10))\n",
    "    plot_tree(\n",
    "        tree,\n",
    "        filled=True,\n",
    "        feature_names=data['X_train'].columns.tolist(), \n",
    "        class_names=clf_rf_40_60.classes_.astype(str),\n",
    "        proportion=True\n",
    "    )\n",
    "    plt.title(f\"Decision Tree Number {i+1} ({key})\")\n",
    "    plt.show()"
   ]
  },
  {
   "cell_type": "code",
   "execution_count": 19,
   "id": "eae72e76",
   "metadata": {},
   "outputs": [
    {
     "name": "stdout",
     "output_type": "stream",
     "text": [
      "Numbers of Wrong labels: 32/182\n",
      "Ratio of wrong labels: 17.58%\n"
     ]
    }
   ],
   "source": [
    "key = '40/60'\n",
    "data = subsets[key]\n",
    "\n",
    "y_true = data['y_test']\n",
    "y_pred_rf = clf_rf_40_60.predict(data['X_test'])\n",
    "\n",
    "accuracy = accuracy_score(y_true, y_pred_rf)\n",
    "\n",
    "misclassified_count = (y_pred_rf != y_true).sum()\n",
    "total_samples = len(y_true)\n",
    "misclassified_rate = 100 * misclassified_count / total_samples\n",
    "\n",
    "print(f\"Numbers of Wrong labels: {misclassified_count}/{total_samples}\")\n",
    "print(f\"Ratio of wrong labels: {misclassified_rate:.2f}%\")"
   ]
  },
  {
   "cell_type": "markdown",
   "id": "41bdeb49",
   "metadata": {},
   "source": [
    "Random Forest : To make it simple we know understand that Random is Random and Forest is a set of Tree. So that in this algorithm we need to build many desicion tree and each of them has randomize order and which Features is used in each step. After we random n data from the dataset then we randomize k features from the set of features(Each features could be the same) and then we weight bias of each Tree output to build the final model."
   ]
  },
  {
   "cell_type": "markdown",
   "id": "e6dcd7fc",
   "metadata": {},
   "source": [
    "As we see random forest goes with a better accuracy than traditional Decision Tree."
   ]
  },
  {
   "cell_type": "markdown",
   "id": "ac0f2a61",
   "metadata": {},
   "source": [
    "# REFERENCES"
   ]
  },
  {
   "cell_type": "markdown",
   "id": "7d550016",
   "metadata": {},
   "source": [
    "https://machinelearningcoban.com/tabml_book/ch_model/random_forest.html<br>"
   ]
  }
 ],
 "metadata": {
  "kernelspec": {
   "display_name": "Python 3",
   "language": "python",
   "name": "python3"
  },
  "language_info": {
   "codemirror_mode": {
    "name": "ipython",
    "version": 3
   },
   "file_extension": ".py",
   "mimetype": "text/x-python",
   "name": "python",
   "nbconvert_exporter": "python",
   "pygments_lexer": "ipython3",
   "version": "3.13.2"
  }
 },
 "nbformat": 4,
 "nbformat_minor": 5
}
